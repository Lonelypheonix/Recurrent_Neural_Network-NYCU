{
 "cells": [
  {
   "cell_type": "markdown",
   "id": "0d843707",
   "metadata": {},
   "source": [
    "## Homework 3 : Develop a Named Entity Recognition (NER) tool based on BERT model.\n",
    "\n",
    "\n",
    "---\n",
    "> **Student ID:** 313831002\n",
    "\n",
    "\n",
    "> **Student Name:** Pavan Kumar J | 柯奉煌\n",
    "\n",
    "> **Course Name:** Recurrent Neural Networks\n",
    "\n",
    "> **Instructor:** 黃仁竑 \n"
   ]
  },
  {
   "cell_type": "markdown",
   "id": "bffbcb49",
   "metadata": {},
   "source": [
    "### Import Statements"
   ]
  },
  {
   "cell_type": "code",
   "execution_count": 1,
   "id": "97889885",
   "metadata": {},
   "outputs": [],
   "source": [
    "# # In [1]: Install & Imports\n",
    "# !pip install torch transformers TorchCRF sklearn tqdm\n",
    "\n",
    "import os\n",
    "import re\n",
    "import torch\n",
    "import numpy as np\n",
    "import matplotlib.pyplot as plt\n",
    "\n",
    "from torch import nn\n",
    "from torch.utils.data import Dataset, DataLoader\n",
    "from transformers import AutoTokenizer, AutoModel, get_linear_schedule_with_warmup\n",
    "from TorchCRF import CRF\n",
    "from sklearn.metrics import classification_report\n",
    "from tqdm import tqdm\n",
    "\n",
    "# For reproducibility\n",
    "torch.manual_seed(42)\n",
    "np.random.seed(42)\n"
   ]
  },
  {
   "cell_type": "markdown",
   "id": "57e559ef",
   "metadata": {},
   "source": [
    "### Check for GPU"
   ]
  },
  {
   "cell_type": "code",
   "execution_count": 2,
   "id": "cd37d894",
   "metadata": {},
   "outputs": [
    {
     "name": "stdout",
     "output_type": "stream",
     "text": [
      "[INFO] Current device: NVIDIA GeForce RTX 4090 , device num:0\n"
     ]
    }
   ],
   "source": [
    "if torch.cuda.is_available():\n",
    "    device = 'cuda:0'\n",
    "    print(\"[INFO] Current device:\", torch.cuda.get_device_name(torch.cuda.current_device()), f\", device num:{torch.cuda.current_device()}\")\n",
    "elif torch.has_mps:\n",
    "    device = 'mps'\n",
    "    print(\"[INFO] Current device: MAC OS Metal Performance Shaders.\")\n",
    "else:\n",
    "    device = 'cpu'\n",
    "    print(\"[INFO] Current device: CPU\")\n",
    "    print(\"*\"*50,\"\\n[WARNING] You may need to change the device to GPU or MPS to get better performance.\")\n",
    "    print(\"*\"*50)\n",
    "device = torch.device(device)"
   ]
  },
  {
   "cell_type": "markdown",
   "id": "d85a11ad",
   "metadata": {},
   "source": [
    "### Special tags & Model / Dataset definitions"
   ]
  },
  {
   "cell_type": "code",
   "execution_count": 3,
   "id": "54ac5ec8",
   "metadata": {},
   "outputs": [],
   "source": [
    "START_TAG = \"<START>\"\n",
    "STOP_TAG  = \"<STOP>\"\n",
    "PAD_TAG   = \"<PAD>\"\n",
    "\n",
    "class SecBERT_BiLSTM_CRF(nn.Module):\n",
    "    def __init__(self, bert_model_name, hidden_dim, tag_to_ix, dropout=0.1):\n",
    "        super().__init__()\n",
    "        self.bert = AutoModel.from_pretrained(bert_model_name)\n",
    "        self.hidden_dim = hidden_dim\n",
    "        self.tag_to_ix  = tag_to_ix\n",
    "        self.tagset_size= len(tag_to_ix)\n",
    "\n",
    "        # BiLSTM\n",
    "        self.lstm = nn.LSTM(\n",
    "            input_size=self.bert.config.hidden_size,\n",
    "            hidden_size=hidden_dim,\n",
    "            num_layers=1, bidirectional=True, batch_first=True\n",
    "        )\n",
    "        self.dropout = nn.Dropout(dropout)\n",
    "        self.hidden2tag = nn.Linear(hidden_dim*2, self.tagset_size)\n",
    "\n",
    "        # CRF\n",
    "        self.crf = CRF(self.tagset_size, batch_first=True)\n",
    "\n",
    "    def _get_bert_features(self, input_ids, attention_mask):\n",
    "        with torch.no_grad():\n",
    "            outputs = self.bert(input_ids=input_ids, attention_mask=attention_mask)\n",
    "        embeds = outputs.last_hidden_state\n",
    "        lstm_out, _ = self.lstm(embeds)\n",
    "        lstm_out = self.dropout(lstm_out)\n",
    "        emissions = self.hidden2tag(lstm_out)\n",
    "        return emissions\n",
    "\n",
    "    def forward(self, input_ids, attention_mask, labels=None):\n",
    "        emissions = self._get_bert_features(input_ids, attention_mask)\n",
    "        mask = attention_mask.bool()\n",
    "        if labels is not None:\n",
    "            crf_labels = labels.clone()\n",
    "            crf_labels[crf_labels == -100] = 0\n",
    "            loss = -self.crf(emissions, crf_labels, mask=mask, reduction='mean')\n",
    "            return loss\n",
    "        else:\n",
    "            return self.crf.decode(emissions, mask=mask)\n",
    "\n",
    "\n",
    "class NERDataset(Dataset):\n",
    "    def __init__(self, sentences, tags, tokenizer, tag_to_ix, max_len=128):\n",
    "        self.sentences = sentences\n",
    "        self.tags      = tags\n",
    "        self.tokenizer = tokenizer\n",
    "        self.tag_to_ix = tag_to_ix\n",
    "        self.max_len   = max_len\n",
    "\n",
    "    def __len__(self):\n",
    "        return len(self.sentences)\n",
    "\n",
    "    def __getitem__(self, idx):\n",
    "        words    = self.sentences[idx]\n",
    "        wordtags = self.tags[idx]\n",
    "        encoding = self.tokenizer(\n",
    "            words,\n",
    "            is_split_into_words=True,\n",
    "            return_offsets_mapping=True,\n",
    "            padding='max_length',\n",
    "            truncation=True,\n",
    "            max_length=self.max_len,\n",
    "            return_tensors='pt'\n",
    "        )\n",
    "        input_ids     = encoding['input_ids'].squeeze(0)\n",
    "        attention_mask= encoding['attention_mask'].squeeze(0)\n",
    "        word_ids      = encoding.word_ids()\n",
    "\n",
    "        # build token-level labels\n",
    "        labels = torch.ones_like(input_ids) * -100\n",
    "        prev = None\n",
    "        for i, wid in enumerate(word_ids):\n",
    "            if wid is None: continue\n",
    "            if wid != prev:\n",
    "                labels[i] = self.tag_to_ix[wordtags[wid]]\n",
    "            prev = wid\n",
    "\n",
    "        return dict(input_ids=input_ids,\n",
    "                    attention_mask=attention_mask,\n",
    "                    labels=labels)\n",
    "\n",
    "\n",
    "def load_sentences_and_tags(path, zeros=True):\n",
    "    sents, tags = [], []\n",
    "    cur_s, cur_t = [], []\n",
    "    with open(path, encoding='utf-8') as f:\n",
    "        for line in f:\n",
    "            line = line.strip()\n",
    "            if not line:\n",
    "                if cur_s:\n",
    "                    sents.append(cur_s); tags.append(cur_t)\n",
    "                    cur_s, cur_t = [], []\n",
    "            else:\n",
    "                parts = line.split()\n",
    "                if 'DOCSTART' in parts[0] or len(parts)<2: continue\n",
    "                word, tag = parts[0], parts[-1]\n",
    "                if zeros: word = re.sub(r'\\d','0', word)\n",
    "                cur_s.append(word); cur_t.append(tag)\n",
    "        if cur_s: sents.append(cur_s); tags.append(cur_t)\n",
    "    return sents, tags\n",
    "\n",
    "\n",
    "def create_tag_mapping(all_tags):\n",
    "    uniq = set(t for seq in all_tags for t in seq)\n",
    "    uniq.add(PAD_TAG)\n",
    "    tag_to_ix = {t:i for i,t in enumerate(sorted(uniq))}\n",
    "    tag_to_ix[START_TAG] = len(tag_to_ix)\n",
    "    tag_to_ix[STOP_TAG]  = len(tag_to_ix)\n",
    "    return tag_to_ix\n"
   ]
  },
  {
   "cell_type": "markdown",
   "id": "af86f14c",
   "metadata": {},
   "source": [
    "### Helper functions: get_preds_and_labels & train loop"
   ]
  },
  {
   "cell_type": "code",
   "execution_count": 4,
   "id": "549993a8",
   "metadata": {},
   "outputs": [],
   "source": [
    "def get_preds_and_labels(model, loader, ix2tag, device):\n",
    "    model.eval()\n",
    "    preds, labs = [], []\n",
    "    with torch.no_grad():\n",
    "        for batch in tqdm(loader, desc=\"Eval\"):\n",
    "            ids  = batch['input_ids'].to(device)\n",
    "            mask = batch['attention_mask'].to(device)\n",
    "            lbls = batch['labels'].to(device)\n",
    "\n",
    "            batch_preds = model(ids, mask)\n",
    "            for seq_p, seq_l, seq_m in zip(batch_preds, lbls, mask):\n",
    "                for p, l, m in zip(seq_p, seq_l.tolist(), seq_m.tolist()):\n",
    "                    if m==0 or l==-100: continue\n",
    "                    preds.append(ix2tag[p]); labs.append(ix2tag[l])\n",
    "    return preds, labs\n",
    "\n",
    "\n",
    "def train_and_validate(model, train_loader, val_loader,\n",
    "                       optimizer, scheduler, tag_to_ix,\n",
    "                       device, epochs=10, model_dir=\"models\"):\n",
    "    os.makedirs(model_dir, exist_ok=True)\n",
    "    ix2tag = {i:t for t,i in tag_to_ix.items()}\n",
    "\n",
    "    history = {'train_loss':[], 'val_prec':[], 'val_rec':[], 'val_f1':[]}\n",
    "    best_val_f1, best_ckpt = 0.0, None\n",
    "    print(\"\\n\" + \"=\"*50)\n",
    "    print(f\"Training {model.__class__.__name__} model...\")  \n",
    "    print(f\"  ↳ Epochs: {epochs}\")\n",
    "    print(f\"  ↳ Batch size: {train_loader.batch_size}\")\n",
    "    print(f\"  ↳ Tagset size: {len(tag_to_ix)}\")\n",
    "    print(f\"  ↳ Training set size: {len(train_loader.dataset)}\")\n",
    "    print(f\"  ↳ Validation set size: {len(val_loader.dataset)}\")\n",
    "    print(f\"  ↳ Training set: {train_loader.dataset.sentences[0]}\")\n",
    "    print(f\"  ↳ Validation set: {val_loader.dataset.sentences[0]}\")\n",
    "    print(f\"  ↳ Training set tags: {train_loader.dataset.tags[0]}\")\n",
    "    print(f\"  ↳ Validation set tags: {val_loader.dataset.tags[0]}\")\n",
    "    print(f\"  ↳ Tag mapping: {tag_to_ix}\")\n",
    "    print(f\"  ↳ Tag mapping (inverse): {ix2tag}\")\n",
    "    print(f\"  ↳ Optimizer: {optimizer}\")\n",
    "    print(\"\\n\" + \"=\"*50)\n",
    "    print(\"Training Started...\")\n",
    "    print(\"=\"*50)\n",
    "    for ep in range(1, epochs+1):\n",
    "        model.train()\n",
    "        \n",
    "        total_loss = 0\n",
    "        for batch in tqdm(train_loader, desc=f\"Epoch {ep}/{epochs} [train]\"):\n",
    "            optimizer.zero_grad()\n",
    "            loss = model(batch['input_ids'].to(device),\n",
    "                         batch['attention_mask'].to(device),\n",
    "                         batch['labels'].to(device))\n",
    "            loss.backward()\n",
    "            torch.nn.utils.clip_grad_norm_(model.parameters(),1.0)\n",
    "            optimizer.step(); scheduler.step()\n",
    "            total_loss += loss.item()\n",
    "\n",
    "        avg_train = total_loss / len(train_loader)\n",
    "        history['train_loss'].append(avg_train)\n",
    "\n",
    "        # validation\n",
    "        val_p, val_r, val_f = 0,0,0\n",
    "        preds, labs = get_preds_and_labels(model, val_loader, ix2tag, device)\n",
    "        rpt = classification_report(labs, preds, output_dict=True, zero_division=0)\n",
    "        history['val_prec'].append(rpt['weighted avg']['precision'])\n",
    "        history['val_rec'].append( rpt['weighted avg']['recall'])\n",
    "        history['val_f1'].append(  rpt['weighted avg']['f1-score'])\n",
    "\n",
    "        print(f\"— Train Loss: {avg_train:.4f}, \"\n",
    "              f\"Valid Precision: {history['val_prec'][-1]:.4f}, \"\n",
    "              f\"Recall: {history['val_rec'][-1]:.4f}, \"\n",
    "              f\"F1 Score: {history['val_f1'][-1]:.4f}\")\n",
    "\n",
    "        # checkpoint if best\n",
    "        if history['val_f1'][-1] > best_val_f1:\n",
    "            best_val_f1 = history['val_f1'][-1]\n",
    "            best_ckpt = os.path.join(model_dir, f\"best_f1_epoch{ep}.pt\")\n",
    "            torch.save(dict(\n",
    "                epoch=ep,\n",
    "                model_state_dict=model.state_dict(),\n",
    "                optimizer_state_dict=optimizer.state_dict(),\n",
    "                scheduler_state_dict=scheduler.state_dict(),\n",
    "                history=history\n",
    "            ), best_ckpt)\n",
    "            print(f\"  ↳ Saved new best model (F1: {best_val_f1:.4f})\\n\")\n",
    "        else:\n",
    "            print()\n",
    "\n",
    "    print(f\"Training done — best Val F1: {best_val_f1:.4f} ({best_ckpt})\")\n",
    "    return best_ckpt, history\n"
   ]
  },
  {
   "cell_type": "markdown",
   "id": "cff220f5",
   "metadata": {},
   "source": [
    "### Data and model parameters"
   ]
  },
  {
   "cell_type": "code",
   "execution_count": 5,
   "id": "e6b38c0d",
   "metadata": {},
   "outputs": [
    {
     "name": "stdout",
     "output_type": "stream",
     "text": [
      "\n",
      "==================================================\n",
      "Training SecBERT_BiLSTM_CRF model...\n",
      "  ↳ Epochs: 10\n",
      "  ↳ Batch size: 16\n",
      "  ↳ Tagset size: 30\n",
      "  ↳ Training set size: 5251\n",
      "  ↳ Validation set size: 662\n",
      "  ↳ Training set: ['The', 'admin@000', 'has', 'largely', 'targeted', 'organizations', 'involved', 'in', 'financial', ',', 'economic', 'and', 'trade', 'policy', ',', 'typically', 'using', 'publicly', 'available', 'RATs', 'such', 'as', 'Poison', 'Ivy', ',', 'as', 'well', 'some', 'non-public', 'backdoors', '.']\n",
      "  ↳ Validation set: ['We', 'believe', 'that', 'these', 'industries', 'have', 'also', 'been', 'targeted', 'as', 'part', 'of', 'a', 'larger', 'supply-chain', 'attack', 'in', 'order', 'for', 'Orangeworm', 'to', 'get', 'access', 'to', 'their', 'intended', 'victims', 'related', 'to', 'healthcare', '.']\n",
      "  ↳ Training set tags: ['O', 'B-HackOrg', 'O', 'O', 'O', 'O', 'O', 'O', 'B-Idus', 'O', 'B-Idus', 'O', 'B-Idus', 'I-Idus', 'O', 'O', 'O', 'B-Tool', 'I-Tool', 'I-Tool', 'O', 'O', 'B-Tool', 'I-Tool', 'O', 'O', 'O', 'O', 'B-Tool', 'I-Tool', 'O']\n",
      "  ↳ Validation set tags: ['O', 'O', 'O', 'O', 'O', 'O', 'O', 'O', 'O', 'O', 'O', 'O', 'O', 'O', 'B-OffAct', 'I-OffAct', 'O', 'O', 'O', 'O', 'O', 'O', 'O', 'O', 'O', 'O', 'O', 'O', 'O', 'B-Idus', 'O']\n",
      "  ↳ Tag mapping: {'<PAD>': 0, 'B-Area': 1, 'B-Exp': 2, 'B-Features': 3, 'B-HackOrg': 4, 'B-Idus': 5, 'B-OffAct': 6, 'B-Org': 7, 'B-Purp': 8, 'B-SamFile': 9, 'B-SecTeam': 10, 'B-Time': 11, 'B-Tool': 12, 'B-Way': 13, 'I-Area': 14, 'I-Exp': 15, 'I-Features': 16, 'I-HackOrg': 17, 'I-Idus': 18, 'I-OffAct': 19, 'I-Org': 20, 'I-Purp': 21, 'I-SamFile': 22, 'I-SecTeam': 23, 'I-Time': 24, 'I-Tool': 25, 'I-Way': 26, 'O': 27, '<START>': 28, '<STOP>': 29}\n",
      "  ↳ Tag mapping (inverse): {0: '<PAD>', 1: 'B-Area', 2: 'B-Exp', 3: 'B-Features', 4: 'B-HackOrg', 5: 'B-Idus', 6: 'B-OffAct', 7: 'B-Org', 8: 'B-Purp', 9: 'B-SamFile', 10: 'B-SecTeam', 11: 'B-Time', 12: 'B-Tool', 13: 'B-Way', 14: 'I-Area', 15: 'I-Exp', 16: 'I-Features', 17: 'I-HackOrg', 18: 'I-Idus', 19: 'I-OffAct', 20: 'I-Org', 21: 'I-Purp', 22: 'I-SamFile', 23: 'I-SecTeam', 24: 'I-Time', 25: 'I-Tool', 26: 'I-Way', 27: 'O', 28: '<START>', 29: '<STOP>'}\n",
      "  ↳ Optimizer: AdamW (\n",
      "Parameter Group 0\n",
      "    amsgrad: False\n",
      "    betas: (0.9, 0.999)\n",
      "    capturable: False\n",
      "    differentiable: False\n",
      "    eps: 1e-08\n",
      "    foreach: None\n",
      "    fused: None\n",
      "    initial_lr: 5e-05\n",
      "    lr: 0.0\n",
      "    maximize: False\n",
      "    weight_decay: 0.01\n",
      ")\n",
      "\n",
      "==================================================\n",
      "Training Started...\n",
      "==================================================\n"
     ]
    },
    {
     "name": "stderr",
     "output_type": "stream",
     "text": [
      "Epoch 1/10 [train]: 100%|██████████| 329/329 [00:33<00:00,  9.88it/s]\n",
      "Eval: 100%|██████████| 42/42 [00:01<00:00, 36.25it/s]\n"
     ]
    },
    {
     "name": "stdout",
     "output_type": "stream",
     "text": [
      "— Train Loss: 64.3687, Valid Precision: 0.6623, Recall: 0.8110, F1 Score: 0.7292\n",
      "  ↳ Saved new best model (F1: 0.7292)\n",
      "\n"
     ]
    },
    {
     "name": "stderr",
     "output_type": "stream",
     "text": [
      "Epoch 2/10 [train]: 100%|██████████| 329/329 [00:33<00:00,  9.96it/s]\n",
      "Eval: 100%|██████████| 42/42 [00:01<00:00, 37.60it/s]\n"
     ]
    },
    {
     "name": "stdout",
     "output_type": "stream",
     "text": [
      "— Train Loss: 31.6199, Valid Precision: 0.7098, Recall: 0.8041, F1 Score: 0.7338\n",
      "  ↳ Saved new best model (F1: 0.7338)\n",
      "\n"
     ]
    },
    {
     "name": "stderr",
     "output_type": "stream",
     "text": [
      "Epoch 3/10 [train]: 100%|██████████| 329/329 [00:33<00:00,  9.94it/s]\n",
      "Eval: 100%|██████████| 42/42 [00:01<00:00, 35.24it/s]\n"
     ]
    },
    {
     "name": "stdout",
     "output_type": "stream",
     "text": [
      "— Train Loss: 26.0547, Valid Precision: 0.7519, Recall: 0.8155, F1 Score: 0.7607\n",
      "  ↳ Saved new best model (F1: 0.7607)\n",
      "\n"
     ]
    },
    {
     "name": "stderr",
     "output_type": "stream",
     "text": [
      "Epoch 4/10 [train]: 100%|██████████| 329/329 [00:32<00:00, 10.05it/s]\n",
      "Eval: 100%|██████████| 42/42 [00:01<00:00, 33.96it/s]\n"
     ]
    },
    {
     "name": "stdout",
     "output_type": "stream",
     "text": [
      "— Train Loss: 23.0047, Valid Precision: 0.7609, Recall: 0.8212, F1 Score: 0.7729\n",
      "  ↳ Saved new best model (F1: 0.7729)\n",
      "\n"
     ]
    },
    {
     "name": "stderr",
     "output_type": "stream",
     "text": [
      "Epoch 5/10 [train]: 100%|██████████| 329/329 [00:33<00:00,  9.93it/s]\n",
      "Eval: 100%|██████████| 42/42 [00:01<00:00, 36.69it/s]\n"
     ]
    },
    {
     "name": "stdout",
     "output_type": "stream",
     "text": [
      "— Train Loss: 21.1185, Valid Precision: 0.7965, Recall: 0.8280, F1 Score: 0.7855\n",
      "  ↳ Saved new best model (F1: 0.7855)\n",
      "\n"
     ]
    },
    {
     "name": "stderr",
     "output_type": "stream",
     "text": [
      "Epoch 6/10 [train]: 100%|██████████| 329/329 [00:32<00:00, 10.11it/s]\n",
      "Eval: 100%|██████████| 42/42 [00:01<00:00, 35.58it/s]\n"
     ]
    },
    {
     "name": "stdout",
     "output_type": "stream",
     "text": [
      "— Train Loss: 19.8304, Valid Precision: 0.8054, Recall: 0.8338, F1 Score: 0.7949\n",
      "  ↳ Saved new best model (F1: 0.7949)\n",
      "\n"
     ]
    },
    {
     "name": "stderr",
     "output_type": "stream",
     "text": [
      "Epoch 7/10 [train]: 100%|██████████| 329/329 [00:33<00:00,  9.92it/s]\n",
      "Eval: 100%|██████████| 42/42 [00:01<00:00, 32.52it/s]\n"
     ]
    },
    {
     "name": "stdout",
     "output_type": "stream",
     "text": [
      "— Train Loss: 19.0123, Valid Precision: 0.8098, Recall: 0.8374, F1 Score: 0.8007\n",
      "  ↳ Saved new best model (F1: 0.8007)\n",
      "\n"
     ]
    },
    {
     "name": "stderr",
     "output_type": "stream",
     "text": [
      "Epoch 8/10 [train]: 100%|██████████| 329/329 [00:32<00:00, 10.05it/s]\n",
      "Eval: 100%|██████████| 42/42 [00:01<00:00, 34.37it/s]\n"
     ]
    },
    {
     "name": "stdout",
     "output_type": "stream",
     "text": [
      "— Train Loss: 18.4353, Valid Precision: 0.8225, Recall: 0.8393, F1 Score: 0.8052\n",
      "  ↳ Saved new best model (F1: 0.8052)\n",
      "\n"
     ]
    },
    {
     "name": "stderr",
     "output_type": "stream",
     "text": [
      "Epoch 9/10 [train]: 100%|██████████| 329/329 [00:33<00:00,  9.88it/s]\n",
      "Eval: 100%|██████████| 42/42 [00:01<00:00, 35.31it/s]\n"
     ]
    },
    {
     "name": "stdout",
     "output_type": "stream",
     "text": [
      "— Train Loss: 18.0774, Valid Precision: 0.8278, Recall: 0.8408, F1 Score: 0.8086\n",
      "  ↳ Saved new best model (F1: 0.8086)\n",
      "\n"
     ]
    },
    {
     "name": "stderr",
     "output_type": "stream",
     "text": [
      "Epoch 10/10 [train]: 100%|██████████| 329/329 [00:32<00:00, 10.05it/s]\n",
      "Eval: 100%|██████████| 42/42 [00:01<00:00, 36.74it/s]\n"
     ]
    },
    {
     "name": "stdout",
     "output_type": "stream",
     "text": [
      "— Train Loss: 17.9239, Valid Precision: 0.8276, Recall: 0.8410, F1 Score: 0.8086\n",
      "\n",
      "Training done — best Val F1: 0.8086 (./models\\best_f1_epoch9.pt)\n"
     ]
    }
   ],
   "source": [
    "# Paths\n",
    "train_p = \"./data/train.txt\"\n",
    "val_p = \"./data/valid.txt\"\n",
    "test_p = \"./data/test.txt\"\n",
    "model_dir = \"./models\"\n",
    "\n",
    "# Load & prepare\n",
    "train_s, train_t = load_sentences_and_tags(train_p)\n",
    "val_s,   val_t   = load_sentences_and_tags(val_p)\n",
    "test_s,  test_t  = load_sentences_and_tags(test_p)\n",
    "\n",
    "tag_to_ix = create_tag_mapping(train_t + val_t + test_t)\n",
    "tokenizer = AutoTokenizer.from_pretrained(\"jackaduma/SecBERT\")\n",
    "\n",
    "batch_size = 16\n",
    "train_ds = NERDataset(train_s, train_t, tokenizer, tag_to_ix)\n",
    "val_ds   = NERDataset(val_s,   val_t,   tokenizer, tag_to_ix)\n",
    "test_ds  = NERDataset(test_s,  test_t,  tokenizer, tag_to_ix)\n",
    "\n",
    "train_loader = DataLoader(train_ds, batch_size=batch_size, shuffle=True)\n",
    "val_loader   = DataLoader(val_ds,   batch_size=batch_size)\n",
    "test_loader  = DataLoader(test_ds,  batch_size=batch_size)\n",
    "\n",
    "device = torch.device(\"cuda\" if torch.cuda.is_available() else \"cpu\")\n",
    "\n",
    "model = SecBERT_BiLSTM_CRF(\n",
    "    bert_model_name=\"jackaduma/SecBERT\",\n",
    "    hidden_dim=128,\n",
    "    tag_to_ix=tag_to_ix,\n",
    "    dropout=0.1\n",
    ").to(device)\n",
    "\n",
    "optimizer = torch.optim.AdamW(model.parameters(), lr=5e-5)\n",
    "total_steps = len(train_loader) * 10\n",
    "scheduler   = get_linear_schedule_with_warmup(\n",
    "    optimizer, num_warmup_steps=100, num_training_steps=total_steps\n",
    ")\n",
    "\n",
    "# Train & validate\n",
    "best_ckpt, history = train_and_validate(\n",
    "    model, train_loader, val_loader,\n",
    "    optimizer, scheduler, tag_to_ix,\n",
    "    device, epochs=10, model_dir=model_dir\n",
    ")\n",
    "\n",
    "\n"
   ]
  },
  {
   "cell_type": "code",
   "execution_count": 6,
   "id": "18b64611",
   "metadata": {},
   "outputs": [
    {
     "name": "stderr",
     "output_type": "stream",
     "text": [
      "C:\\Users\\user\\AppData\\Local\\Temp\\ipykernel_76624\\1231655060.py:3: FutureWarning: You are using `torch.load` with `weights_only=False` (the current default value), which uses the default pickle module implicitly. It is possible to construct malicious pickle data which will execute arbitrary code during unpickling (See https://github.com/pytorch/pytorch/blob/main/SECURITY.md#untrusted-models for more details). In a future release, the default value for `weights_only` will be flipped to `True`. This limits the functions that could be executed during unpickling. Arbitrary objects will no longer be allowed to be loaded via this mode unless they are explicitly allowlisted by the user via `torch.serialization.add_safe_globals`. We recommend you start setting `weights_only=True` for any use case where you don't have full control of the loaded file. Please open an issue on GitHub for any issues related to this experimental feature.\n",
      "  ckpt = torch.load(best_ckpt, map_location=device)\n"
     ]
    },
    {
     "name": "stdout",
     "output_type": "stream",
     "text": [
      "\n",
      "Loading best model for test…\n"
     ]
    },
    {
     "name": "stderr",
     "output_type": "stream",
     "text": [
      "Eval: 100%|██████████| 42/42 [00:01<00:00, 37.36it/s]\n"
     ]
    },
    {
     "name": "stdout",
     "output_type": "stream",
     "text": [
      "\n",
      "Test Precision: 0.8217, Recall: 0.8334, F1: 0.7953\n",
      "\n",
      "==================================================\n",
      " Detailed Test Set Evaluation \n",
      "==================================================\n",
      "              precision    recall  f1-score   support\n",
      "\n",
      "       <PAD>       0.00      0.00      0.00         0\n",
      "      B-Area       0.69      0.72      0.71       216\n",
      "       B-Exp       0.93      0.58      0.72       132\n",
      "  B-Features       0.80      0.03      0.07       116\n",
      "   B-HackOrg       0.56      0.54      0.55       369\n",
      "      B-Idus       0.56      0.60      0.58       127\n",
      "    B-OffAct       0.38      0.08      0.13       150\n",
      "       B-Org       0.50      0.04      0.07       137\n",
      "      B-Purp       0.00      0.00      0.00       115\n",
      "   B-SamFile       0.67      0.01      0.02       248\n",
      "   B-SecTeam       0.74      0.45      0.56       152\n",
      "      B-Time       0.86      0.69      0.77       167\n",
      "      B-Tool       0.53      0.23      0.33       315\n",
      "       B-Way       0.95      0.35      0.51       100\n",
      "      I-Area       0.88      0.42      0.57        52\n",
      "       I-Exp       1.00      0.27      0.42        49\n",
      "  I-Features       0.75      0.04      0.08       151\n",
      "   I-HackOrg       0.50      0.02      0.03       133\n",
      "      I-Idus       0.00      0.00      0.00        38\n",
      "    I-OffAct       0.00      0.00      0.00        91\n",
      "       I-Org       0.58      0.11      0.18       101\n",
      "      I-Purp       1.00      0.01      0.01       145\n",
      "   I-SamFile       1.00      0.06      0.12        95\n",
      "   I-SecTeam       1.00      0.04      0.07        56\n",
      "      I-Time       0.87      0.59      0.71       101\n",
      "      I-Tool       0.67      0.01      0.02       161\n",
      "       I-Way       0.91      0.24      0.38        89\n",
      "           O       0.86      0.98      0.92     14110\n",
      "\n",
      "    accuracy                           0.83     17716\n",
      "   macro avg       0.65      0.25      0.30     17716\n",
      "weighted avg       0.82      0.83      0.80     17716\n",
      "\n"
     ]
    }
   ],
   "source": [
    "# Load best & test evaluation\n",
    "print(\"\\nLoading best model for test…\")\n",
    "ckpt = torch.load(best_ckpt, map_location=device)\n",
    "model.load_state_dict(ckpt['model_state_dict'])\n",
    "model.to(device)\n",
    "\n",
    "ix2tag = {i:t for t,i in tag_to_ix.items()}\n",
    "preds, labs = get_preds_and_labels(model, test_loader, ix2tag, device)\n",
    "# **NEW**: compute weighted‐avg test P/R/F1\n",
    "test_rpt = classification_report(labs, preds, output_dict=True, zero_division=0)\n",
    "test_prec = test_rpt['weighted avg']['precision']\n",
    "test_rec  = test_rpt['weighted avg']['recall']\n",
    "test_f1   = test_rpt['weighted avg']['f1-score']\n",
    "print(f\"\\nTest Precision: {test_prec:.4f}, Recall: {test_rec:.4f}, F1: {test_f1:.4f}\")\n",
    "print(\"\\n\" + \"=\"*50)\n",
    "print(\" Detailed Test Set Evaluation \")\n",
    "print(\"=\"*50)\n",
    "print(classification_report(labs, preds, zero_division=0))\n",
    "\n",
    "# save report\n",
    "os.makedirs(\"model_output\", exist_ok=True)\n",
    "with open(\"model_output/test_results.txt\",\"w\",encoding=\"utf-8\") as f:\n",
    "    f.write(f\"Test Precision: {test_prec:.4f}, Recall: {test_rec:.4f}, F1: {test_f1:.4f}\\n\")\n",
    "    f.write(\"\\n\" + \"=\"*50 + \"\\n\")\n",
    "    f.write(\" Detailed Test Set Evaluation \\n\")\n",
    "    f.write(\"=\"*50 + \"\\n\")\n",
    "    f.write(classification_report(labs, preds, zero_division=0))\n"
   ]
  },
  {
   "cell_type": "code",
   "execution_count": 7,
   "id": "1c847952",
   "metadata": {},
   "outputs": [
    {
     "data": {
      "image/png": "[encoded data removed]",
      "text/plain": [
       "<Figure size 800x400 with 1 Axes>"
      ]
     },
     "metadata": {},
     "output_type": "display_data"
    },
    {
     "data": {
      "image/png": "[encoded data removed]",
      "text/plain": [
       "<Figure size 800x400 with 1 Axes>"
      ]
     },
     "metadata": {},
     "output_type": "display_data"
    }
   ],
   "source": [
    "# In [5]: Plot training curves\n",
    "\n",
    "plt.figure(figsize=(8,4))\n",
    "plt.plot(history['train_loss'], label=\"Train Loss\")\n",
    "plt.xlabel(\"Epoch\"); plt.ylabel(\"Loss\")\n",
    "plt.title(\"Training Loss over Epochs\")\n",
    "plt.legend(); plt.grid(True)\n",
    "plt.show()\n",
    "\n",
    "plt.figure(figsize=(8,4))\n",
    "plt.plot(history['val_f1'], marker='o', label=\"Val F1\")\n",
    "plt.xlabel(\"Epoch\"); plt.ylabel(\"F1 Score\")\n",
    "plt.title(\"Validation F1 over Epochs\")\n",
    "plt.ylim(0,1); plt.legend(); plt.grid(True)\n",
    "plt.show()\n"
   ]
  }
 ],
 "metadata": {
  "kernelspec": {
   "display_name": "Python 3",
   "language": "python",
   "name": "python3"
  },
  "language_info": {
   "codemirror_mode": {
    "name": "ipython",
    "version": 3
   },
   "file_extension": ".py",
   "mimetype": "text/x-python",
   "name": "python",
   "nbconvert_exporter": "python",
   "pygments_lexer": "ipython3",
   "version": "3.12.6"
  }
 },
 "nbformat": 4,
 "nbformat_minor": 5
}
